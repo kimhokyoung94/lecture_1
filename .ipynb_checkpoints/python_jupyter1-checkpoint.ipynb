{
 "cells": [
  {
   "cell_type": "code",
   "execution_count": 2,
   "metadata": {},
   "outputs": [
    {
     "data": {
      "text/plain": [
       "2533000"
      ]
     },
     "execution_count": 2,
     "metadata": {},
     "output_type": "execute_result"
    }
   ],
   "source": [
    "1000*2533"
   ]
  },
  {
   "cell_type": "code",
   "execution_count": 1,
   "metadata": {},
   "outputs": [
    {
     "data": {
      "text/plain": [
       "497"
      ]
     },
     "execution_count": 1,
     "metadata": {},
     "output_type": "execute_result"
    }
   ],
   "source": [
    "500-3"
   ]
  },
  {
   "cell_type": "code",
   "execution_count": 2,
   "metadata": {},
   "outputs": [
    {
     "name": "stdout",
     "output_type": "stream",
     "text": [
      "<class 'int'>\n",
      "<class 'float'>\n"
     ]
    }
   ],
   "source": [
    "intnum = 100\n",
    "floatnum = 100.0\n",
    "print(type(intnum))\n",
    "print(type(floatnum))"
   ]
  },
  {
   "cell_type": "code",
   "execution_count": 8,
   "metadata": {},
   "outputs": [
    {
     "name": "stdout",
     "output_type": "stream",
     "text": [
      "<class 'int'>\n",
      "<class 'str'>\n",
      "100안녕\n"
     ]
    }
   ],
   "source": [
    "intnum =100\n",
    "print(type(intnum))\n",
    "strdate = \"안녕\"\n",
    "num = str(intnum)\n",
    "print(type(strdate))\n",
    "print(num+strdate)"
   ]
  },
  {
   "cell_type": "code",
   "execution_count": 12,
   "metadata": {},
   "outputs": [
    {
     "name": "stdout",
     "output_type": "stream",
     "text": [
      "여러분 안녕하세요!!\n"
     ]
    }
   ],
   "source": [
    "hello = \"여러분 안녕하세요!!\"\n",
    "bye = \"안녕히 가세요\"\n",
    "print(hello)"
   ]
  },
  {
   "cell_type": "code",
   "execution_count": 16,
   "metadata": {},
   "outputs": [
    {
     "name": "stdout",
     "output_type": "stream",
     "text": [
      "\"여러분\" 안녕하세요!!\n"
     ]
    }
   ],
   "source": [
    "hello = '\"여러분\"'\" 안녕하세요!!\"\n",
    "print(hello)"
   ]
  },
  {
   "cell_type": "code",
   "execution_count": 23,
   "metadata": {},
   "outputs": [
    {
     "name": "stdout",
     "output_type": "stream",
     "text": [
      "안녕하세요 반갑습니다 \n",
      "여기는 스마트 팩토리 \n",
      "수업반 입니다\n"
     ]
    }
   ],
   "source": [
    "hello = '''안녕하세요 반갑습니다 \n",
    "여기는 스마트 팩토리 \n",
    "수업반 입니다'''\n",
    "print(hello)"
   ]
  },
  {
   "cell_type": "code",
   "execution_count": 19,
   "metadata": {},
   "outputs": [
    {
     "name": "stdout",
     "output_type": "stream",
     "text": [
      "안녕\n",
      "하세요\n"
     ]
    }
   ],
   "source": [
    "hello = \"안녕\\n하세요\"\n",
    "print(hello)"
   ]
  },
  {
   "cell_type": "code",
   "execution_count": 28,
   "metadata": {},
   "outputs": [
    {
     "name": "stdout",
     "output_type": "stream",
     "text": [
      "True\n"
     ]
    }
   ],
   "source": [
    "print ( 2==2) and print(2==3)"
   ]
  },
  {
   "cell_type": "markdown",
   "metadata": {},
   "source": [
    "print ( 2==2) or print(2==3)"
   ]
  },
  {
   "cell_type": "code",
   "execution_count": 30,
   "metadata": {},
   "outputs": [
    {
     "name": "stdout",
     "output_type": "stream",
     "text": [
      "True\n",
      "False\n"
     ]
    }
   ],
   "source": [
    "print ( 2==2) or print(2==3)"
   ]
  },
  {
   "cell_type": "code",
   "execution_count": 41,
   "metadata": {},
   "outputs": [
    {
     "name": "stdout",
     "output_type": "stream",
     "text": [
      "9.0\n",
      "5.0\n",
      "8.0\n",
      "(0.34905660377358483-0.02830188679245282j)\n"
     ]
    }
   ],
   "source": [
    "#복소수 연산\n",
    "number_1 = 2+3j\n",
    "number_2 = 5+9j\n",
    "print(number_2.imag)\n",
    "print(number_2.real)\n",
    "print(number_1.imag+number_2.real)\n",
    "print(number_1/number_2)"
   ]
  },
  {
   "cell_type": "code",
   "execution_count": 62,
   "metadata": {},
   "outputs": [
    {
     "data": {
      "text/plain": [
       "False"
      ]
     },
     "execution_count": 62,
     "metadata": {},
     "output_type": "execute_result"
    }
   ],
   "source": [
    "#bool 테스트\n",
    "bool('')"
   ]
  },
  {
   "cell_type": "code",
   "execution_count": 68,
   "metadata": {},
   "outputs": [
    {
     "data": {
      "text/plain": [
       "False"
      ]
     },
     "execution_count": 68,
     "metadata": {},
     "output_type": "execute_result"
    }
   ],
   "source": [
    "str = ''\n",
    "bool(str)"
   ]
  },
  {
   "cell_type": "code",
   "execution_count": 70,
   "metadata": {},
   "outputs": [
    {
     "name": "stdout",
     "output_type": "stream",
     "text": [
      "맞나요?\n"
     ]
    }
   ],
   "source": [
    "'''\n",
    "이것은\n",
    "지금 파이썬 데이터 코딩 하고 있는 모습입니다\n",
    "그렇죠\n",
    "'''\n",
    "print(\"맞나요?\")"
   ]
  },
  {
   "cell_type": "code",
   "execution_count": 76,
   "metadata": {},
   "outputs": [
    {
     "name": "stdout",
     "output_type": "stream",
     "text": [
      "당신이 사는 곳은?\n",
      "\n"
     ]
    }
   ],
   "source": [
    "input_date = input(\"당신이 사는 곳은?\")\n",
    "print(input_date)"
   ]
  },
  {
   "cell_type": "code",
   "execution_count": 81,
   "metadata": {},
   "outputs": [
    {
     "name": "stdout",
     "output_type": "stream",
     "text": [
      "이름 :김김김김김호경경경\n",
      "김김김김김호경경경님 반갑습니다\n"
     ]
    }
   ],
   "source": [
    "name = input(\"이름 :\")\n",
    "print(name+\"님 반갑습니다\")"
   ]
  },
  {
   "cell_type": "code",
   "execution_count": 82,
   "metadata": {},
   "outputs": [
    {
     "name": "stdout",
     "output_type": "stream",
     "text": [
      "num=  100\n",
      "num=  200\n",
      "num=  300\n"
     ]
    }
   ],
   "source": [
    "num = 100;\n",
    "print('num= ',num)\n",
    "num = num+100;\n",
    "print('num= ',num)\n",
    "num = num+100;\n",
    "print('num= ',num)"
   ]
  },
  {
   "cell_type": "code",
   "execution_count": 85,
   "metadata": {},
   "outputs": [
    {
     "name": "stdout",
     "output_type": "stream",
     "text": [
      "num=  100\n",
      "num=  200\n",
      "num=  300\n"
     ]
    }
   ],
   "source": [
    "num = 100;\n",
    "print('num= ',num)\n",
    "num +=100;\n",
    "print('num= ',num)\n",
    "num +=100;\n",
    "print('num= ',num)"
   ]
  },
  {
   "cell_type": "code",
   "execution_count": null,
   "metadata": {},
   "outputs": [],
   "source": []
  }
 ],
 "metadata": {
  "kernelspec": {
   "display_name": "Python 3",
   "language": "python",
   "name": "python3"
  },
  "language_info": {
   "codemirror_mode": {
    "name": "ipython",
    "version": 3
   },
   "file_extension": ".py",
   "mimetype": "text/x-python",
   "name": "python",
   "nbconvert_exporter": "python",
   "pygments_lexer": "ipython3",
   "version": "3.8.3"
  }
 },
 "nbformat": 4,
 "nbformat_minor": 4
}
